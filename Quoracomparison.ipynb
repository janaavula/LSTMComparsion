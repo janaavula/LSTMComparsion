{
 "cells": [
  {
   "cell_type": "code",
   "execution_count": 122,
   "metadata": {
    "collapsed": false
   },
   "outputs": [],
   "source": [
    "from time import time\n",
    "import pandas as pd\n",
    "import numpy as np\n",
    "from gensim.models import KeyedVectors\n",
    "import re\n",
    "from nltk.corpus import stopwords\n",
    "from sklearn.model_selection import train_test_split\n",
    "import matplotlib.pyplot as plt\n",
    "import seaborn as sns\n",
    "\n",
    "import itertools\n",
    "import datetime\n",
    "\n",
    "from keras.preprocessing.sequence import pad_sequences\n",
    "from keras.models import Model\n",
    "from keras.layers import Input, Embedding, LSTM, Merge\n",
    "import keras.backend as K\n",
    "from keras.optimizers import Adadelta\n",
    "from keras.callbacks import ModelCheckpoint"
   ]
  },
  {
   "cell_type": "code",
   "execution_count": 123,
   "metadata": {
    "collapsed": true
   },
   "outputs": [],
   "source": [
    "# File paths\n",
    "TRAIN_CSV = './train.csv'\n",
    "TEST_CSV = './test.csv'"
   ]
  },
  {
   "cell_type": "code",
   "execution_count": 124,
   "metadata": {
    "collapsed": true
   },
   "outputs": [],
   "source": [
    "EMBEDDING_FILE = './GoogleNews-vectors-negative300.bin'\n",
    "MODEL_SAVING_DIR = './'"
   ]
  },
  {
   "cell_type": "code",
   "execution_count": 125,
   "metadata": {
    "collapsed": true
   },
   "outputs": [],
   "source": [
    "# Load training and test set\n",
    "train_df = pd.read_csv(TRAIN_CSV)\n",
    "test_df = pd.read_csv(TEST_CSV)"
   ]
  },
  {
   "cell_type": "code",
   "execution_count": 126,
   "metadata": {
    "collapsed": false,
    "scrolled": false
   },
   "outputs": [
    {
     "name": "stdout",
     "output_type": "stream",
     "text": [
      "   id  qid1  qid2                                          question1  \\\n",
      "0   0     1     2  What is the step by step guide to invest in sh...   \n",
      "1   1     3     4  What is the story of Kohinoor (Koh-i-Noor) Dia...   \n",
      "2   2     5     6  How can I increase the speed of my internet co...   \n",
      "3   3     7     8  Why am I mentally very lonely? How can I solve...   \n",
      "\n",
      "                                           question2  is_duplicate  \n",
      "0  What is the step by step guide to invest in sh...             0  \n",
      "1  What would happen if the Indian government sto...             0  \n",
      "2  How can Internet speed be increased by hacking...             0  \n",
      "3  Find the remainder when [math]23^{24}[/math] i...             0  \n"
     ]
    }
   ],
   "source": [
    "print (train_df.head(4))"
   ]
  },
  {
   "cell_type": "code",
   "execution_count": 127,
   "metadata": {
    "collapsed": true
   },
   "outputs": [],
   "source": [
    "stops = set(stopwords.words('english'))\n",
    "\n",
    "def text_to_word_list(text):\n",
    "    ''' Pre process and convert texts to a list of words '''\n",
    "    text = str(text)\n",
    "    text = text.lower()\n",
    "\n",
    "    # Clean the text\n",
    "    text = re.sub(r\"[^A-Za-z0-9^,!.\\/'+-=]\", \" \", text)\n",
    "    text = re.sub(r\"what's\", \"what is \", text)\n",
    "    text = re.sub(r\"\\'s\", \" \", text)\n",
    "    text = re.sub(r\"\\'ve\", \" have \", text)\n",
    "    text = re.sub(r\"can't\", \"cannot \", text)\n",
    "    text = re.sub(r\"n't\", \" not \", text)\n",
    "    text = re.sub(r\"i'm\", \"i am \", text)\n",
    "    text = re.sub(r\"\\'re\", \" are \", text)\n",
    "    text = re.sub(r\"\\'d\", \" would \", text)\n",
    "    text = re.sub(r\"\\'ll\", \" will \", text)\n",
    "    text = re.sub(r\",\", \" \", text)\n",
    "    text = re.sub(r\"\\.\", \" \", text)\n",
    "    text = re.sub(r\"!\", \" ! \", text)\n",
    "    text = re.sub(r\"\\/\", \" \", text)\n",
    "    text = re.sub(r\"\\^\", \" ^ \", text)\n",
    "    text = re.sub(r\"\\+\", \" + \", text)\n",
    "    text = re.sub(r\"\\-\", \" - \", text)\n",
    "    text = re.sub(r\"\\=\", \" = \", text)\n",
    "    text = re.sub(r\"'\", \" \", text)\n",
    "    text = re.sub(r\"(\\d+)(k)\", r\"\\g<1>000\", text)\n",
    "    text = re.sub(r\":\", \" : \", text)\n",
    "    text = re.sub(r\" e g \", \" eg \", text)\n",
    "    text = re.sub(r\" b g \", \" bg \", text)\n",
    "    text = re.sub(r\" u s \", \" american \", text)\n",
    "    text = re.sub(r\"\\0s\", \"0\", text)\n",
    "    text = re.sub(r\" 9 11 \", \"911\", text)\n",
    "    text = re.sub(r\"e - mail\", \"email\", text)\n",
    "    text = re.sub(r\"j k\", \"jk\", text)\n",
    "    text = re.sub(r\"\\s{2,}\", \" \", text)\n",
    "\n",
    "    text = text.split()\n",
    "\n",
    "    return text\n",
    "\n"
   ]
  },
  {
   "cell_type": "code",
   "execution_count": 128,
   "metadata": {
    "collapsed": false
   },
   "outputs": [],
   "source": [
    "train_df['question1'] = train_df['question1'].apply(text_to_word_list)\n",
    "train_df['question2'] = train_df['question2'].apply(text_to_word_list)\n",
    "test_df['question1'] = test_df['question1'].apply(text_to_word_list)\n",
    "test_df['question2'] = test_df['question2'].apply(text_to_word_list)"
   ]
  },
  {
   "cell_type": "code",
   "execution_count": 130,
   "metadata": {
    "collapsed": false
   },
   "outputs": [
    {
     "name": "stdout",
     "output_type": "stream",
     "text": [
      "   id  qid1  qid2                                          question1  \\\n",
      "0   0     1     2  [what, is, the, step, by, step, guide, to, inv...   \n",
      "1   1     3     4  [what, is, the, story, of, kohinoor, koh, -, i...   \n",
      "2   2     5     6  [how, can, i, increase, the, speed, of, my, in...   \n",
      "3   3     7     8  [why, am, i, mentally, very, lonely, how, can,...   \n",
      "\n",
      "                                           question2  is_duplicate  \n",
      "0  [what, is, the, step, by, step, guide, to, inv...             0  \n",
      "1  [what, would, happen, if, the, indian, governm...             0  \n",
      "2  [how, can, internet, speed, be, increased, by,...             0  \n",
      "3  [find, the, remainder, when, math, 23, ^, 24, ...             0  \n"
     ]
    }
   ],
   "source": [
    "print (train_df.head(4))"
   ]
  },
  {
   "cell_type": "code",
   "execution_count": 131,
   "metadata": {
    "collapsed": false
   },
   "outputs": [
    {
     "name": "stdout",
     "output_type": "stream",
     "text": [
      "id                                                              1\n",
      "qid1                                                            3\n",
      "qid2                                                            4\n",
      "question1       [what, is, the, story, of, kohinoor, koh, -, i...\n",
      "question2       [what, would, happen, if, the, indian, governm...\n",
      "is_duplicate                                                    0\n",
      "Name: 1, dtype: object\n"
     ]
    }
   ],
   "source": [
    "print (train_df.iloc[1])"
   ]
  },
  {
   "cell_type": "code",
   "execution_count": 223,
   "metadata": {
    "collapsed": false
   },
   "outputs": [
    {
     "name": "stdout",
     "output_type": "stream",
     "text": [
      "4512467\n",
      "9126705\n",
      "35514748\n",
      "61988437\n"
     ]
    }
   ],
   "source": [
    "questionwords = []\n",
    "for value in enumerate(train_df['question1']):\n",
    "    for word in value[1]:\n",
    "        questionwords.append(word)\n",
    "print (len(questionwords))\n",
    "for value in enumerate(train_df['question2']):\n",
    "    for word in value[1]:\n",
    "        questionwords.append(word)\n",
    "print (len(questionwords))\n",
    "for value in enumerate(test_df['question1']):\n",
    "    for word in value[1]:\n",
    "        questionwords.append(word)\n",
    "print (len(questionwords))\n",
    "for value in enumerate(test_df['question2']):\n",
    "    for word in value[1]:\n",
    "        questionwords.append(word)\n",
    "print (len(questionwords))"
   ]
  },
  {
   "cell_type": "code",
   "execution_count": 224,
   "metadata": {
    "collapsed": false
   },
   "outputs": [
    {
     "name": "stdout",
     "output_type": "stream",
     "text": [
      "present\n"
     ]
    }
   ],
   "source": [
    "for value in questionwords:\n",
    "    if value == 'motorolla':\n",
    "        print ('present')\n",
    "        break\n",
    "    else:\n",
    "        continue"
   ]
  },
  {
   "cell_type": "code",
   "execution_count": 225,
   "metadata": {
    "collapsed": false
   },
   "outputs": [
    {
     "name": "stdout",
     "output_type": "stream",
     "text": [
      "61988437\n"
     ]
    }
   ],
   "source": [
    "print (len(questionwords))"
   ]
  },
  {
   "cell_type": "code",
   "execution_count": 226,
   "metadata": {
    "collapsed": false
   },
   "outputs": [
    {
     "name": "stdout",
     "output_type": "stream",
     "text": [
      "121325\n"
     ]
    }
   ],
   "source": [
    "print (len(set(questionwords)))"
   ]
  },
  {
   "cell_type": "code",
   "execution_count": 227,
   "metadata": {
    "collapsed": false
   },
   "outputs": [],
   "source": [
    "uniquequestionwords = list(set(questionwords))\n",
    "# print (len(uniquequestionwords))"
   ]
  },
  {
   "cell_type": "code",
   "execution_count": 228,
   "metadata": {
    "collapsed": false
   },
   "outputs": [
    {
     "name": "stdout",
     "output_type": "stream",
     "text": [
      "present\n"
     ]
    }
   ],
   "source": [
    "for value in uniquequestionwords:\n",
    "    if value == 'motorolla':\n",
    "        print ('present')\n",
    "        break\n",
    "    else:\n",
    "        continue"
   ]
  },
  {
   "cell_type": "code",
   "execution_count": 229,
   "metadata": {
    "collapsed": false
   },
   "outputs": [
    {
     "name": "stdout",
     "output_type": "stream",
     "text": [
      "['leaver', 'rancor', 'forbad', 'digitalocean', 'grandmango', 'twisted', 'tournez', 'buzzing', 'clark', 'flightl', 'catched', 'detergent', 'codeschool', 'doingit', 'haploid', '664', 'iwarp', 'blazin', '90th', 'pesos', 'dataware', '775', 'cdh5', 'quorum', 'chippewa', 'dominica', 'arguements', 'quistion', 'peonies', 'speedstackinggirl', 'interpublic', 'transfusions', 'european', 'hcio2', 'brabus', 'hf', 'klipsch', 'navision', 'psychodynamic', 'poise', '24p423d', 'verballly', 'ganpat', 'conquer', 'cowspiracy', 'assault', 'comduction', 'psilocybe', '538', 'core', 'charat', 'drumnkilly', 'icit', 'envoys', 'birther', 'aliaga', 'appropriative', 'ramses', 'daiwa', 'protonex', '1123', 'ask', 'jhalak', 'repudiate', 'hvng', 'unresolved', 'tanu', 'intestate', 'gomorrah', 'income;', 'ursidae', 'difficilt', 'nursery', 'haan', 'listening;', 'zipperhead', 'dismissive', 'overwhelmingly', 'bencic', 'profiteering', 'joiners', 'snag', 'eathng', 'thats', 'cinemasins', 'resells', 'menisectomy', 'radiologists', 'coderpad', '9655559298', 'kebabs', 'leanplum', 'grougs', 'rhinos', 'restaurant', 'alongside', 'miele', 'chnces', 'quoras', 'octro', 'epip', 'jhankar', 'pasani', 'dignitaries', 'joggers', 'shanghai', 'yelagiri', 'nidalee', '429', 'gilmour', 'poughkeepsie', 'lamotrigine', 'metaweb', 'mahabarat', 'outsets', 'yerba', 'reselection', 'careerpoint', 'in100', 'glaze', 'tio', 'paolo', 'discernable', 'microsecond', 'dipolar', 'busy', 'rounding', 'lunchmeat', '1<x<1', 'commitee', 'da', 'tp', 'exuse', 'aspires', 'aconcagua', '109883', 'sandhya', 'quim', 'girdle', 'bhattacharjee', 'uitableview', 'vineyard', 'viirat', 'khalisthan', 'germans', 'kanchuki', 'tedtalks', 'composing', 'vices', 'interconnects', 'cug', 'tupolev', 'localytics', 'devastations', 'comfused', 'sin30', 'bodyfat', 'pentile', 'heaped', '700d', 'cussler', 'unicorn', 'socioculturalism', 'ankan', 'afofee', 'viteee', 'lallapalooza', 'duplicate', 'kaku', 'loaner', 'intimate', 'shahu', '13hp', 'adelaide', 'tensors', 'transdisciplinarity', 'thaelsemia', 'fryer', 'dudhadhari', 'ward', 'maximized', 'weekdays', 'solarization', 'palusible', 'countably', 'doorwork', 'phate', 'sewol', 'preditor', 'volume;', 'hypodensity', 'patiently', 'cairo', 'blinded', 'tsla', 'inhalants', 'hairs', 'intramuscular', 'polygenic', 'catchpokemon']\n"
     ]
    }
   ],
   "source": [
    "print (uniquequestionwords[900:1100])"
   ]
  },
  {
   "cell_type": "code",
   "execution_count": 230,
   "metadata": {
    "collapsed": false
   },
   "outputs": [],
   "source": [
    "# Create a dictionary with unique words"
   ]
  },
  {
   "cell_type": "code",
   "execution_count": 231,
   "metadata": {
    "collapsed": true
   },
   "outputs": [],
   "source": [
    "words_to_index = {}\n",
    "index_to_words = {}\n",
    "\n",
    "i = 0\n",
    "for word in uniquequestionwords:\n",
    "    words_to_index[word] = i\n",
    "    i = i + 1\n",
    "    \n",
    "j=0\n",
    "for word in uniquequestionwords:\n",
    "    index_to_words[j] = word\n",
    "    j=j+1\n",
    "    \n",
    "    "
   ]
  },
  {
   "cell_type": "code",
   "execution_count": 232,
   "metadata": {
    "collapsed": false
   },
   "outputs": [
    {
     "data": {
      "text/plain": [
       "[106452, 13057, 318, 51304, 46398, 88515]"
      ]
     },
     "execution_count": 232,
     "metadata": {},
     "output_type": "execute_result"
    }
   ],
   "source": [
    "import sys\n",
    "def word_2_integer(wordslist):\n",
    "    question2integer = []\n",
    "    for word in wordslist:\n",
    "        question2integer.append(words_to_index[word])\n",
    "\n",
    "    return question2integer\n",
    "\n",
    "word_2_integer(['what', 'is', 'the', 'story', 'of', 'kohinoor'])"
   ]
  },
  {
   "cell_type": "code",
   "execution_count": 233,
   "metadata": {
    "collapsed": false
   },
   "outputs": [],
   "source": [
    "train_df = pd.read_csv(TRAIN_CSV)\n",
    "test_df = pd.read_csv(TEST_CSV)\n",
    "train_df['question1'] = train_df['question1'].apply(text_to_word_list)\n",
    "train_df['question2'] = train_df['question2'].apply(text_to_word_list)\n",
    "test_df['question1'] = test_df['question1'].apply(text_to_word_list)\n",
    "test_df['question2'] = test_df['question2'].apply(text_to_word_list)\n",
    "train_df['question1'] = train_df['question1'].apply(word_2_integer)\n",
    "train_df['question2'] = train_df['question2'].apply(word_2_integer)\n",
    "test_df['question1'] = test_df['question1'].apply(word_2_integer)\n",
    "test_df['question2'] = test_df['question2'].apply(word_2_integer)"
   ]
  },
  {
   "cell_type": "code",
   "execution_count": 235,
   "metadata": {
    "collapsed": false
   },
   "outputs": [
    {
     "data": {
      "text/plain": [
       "id                                                              3\n",
       "qid1                                                            7\n",
       "qid2                                                            8\n",
       "question1       [19164, 3082, 79471, 98928, 60784, 56607, 2169...\n",
       "question2       [2833, 318, 12369, 71016, 53930, 41856, 46938,...\n",
       "is_duplicate                                                    0\n",
       "Name: 3, dtype: object"
      ]
     },
     "execution_count": 235,
     "metadata": {},
     "output_type": "execute_result"
    }
   ],
   "source": [
    "train_df.iloc[3]"
   ]
  },
  {
   "cell_type": "code",
   "execution_count": 236,
   "metadata": {
    "collapsed": false
   },
   "outputs": [
    {
     "name": "stdout",
     "output_type": "stream",
     "text": [
      "121325\n"
     ]
    }
   ],
   "source": [
    "print ( len(words_to_index))"
   ]
  },
  {
   "cell_type": "code",
   "execution_count": 237,
   "metadata": {
    "collapsed": true
   },
   "outputs": [],
   "source": [
    "\n",
    "embedding_dim = 300\n",
    "embeddings = 1 * np.random.randn(len(words_to_index) + 1, embedding_dim)  # This will be the embedding matrix\n",
    "embeddings[0] = 0  # So that the padding will be ignored\n",
    "\n",
    "# Build the embedding matrix\n",
    "for word, index in words_to_index.items():\n",
    "    if word in word2vec.vocab:\n",
    "        embeddings[index] = word2vec.word_vec(word)\n",
    "\n",
    "# del word2vec"
   ]
  },
  {
   "cell_type": "code",
   "execution_count": 238,
   "metadata": {
    "collapsed": false
   },
   "outputs": [
    {
     "name": "stdout",
     "output_type": "stream",
     "text": [
      "(121326, 300)\n"
     ]
    }
   ],
   "source": [
    "print (embeddings.shape)"
   ]
  },
  {
   "cell_type": "code",
   "execution_count": 239,
   "metadata": {
    "collapsed": false
   },
   "outputs": [
    {
     "name": "stdout",
     "output_type": "stream",
     "text": [
      "[-3.04687500e-01 -2.77709961e-03  5.88378906e-02  4.51660156e-02\n",
      " -6.25000000e-02 -1.06933594e-01 -3.19824219e-02 -1.31835938e-01\n",
      "  1.24023438e-01  5.32226562e-02  3.14453125e-01  2.59765625e-01\n",
      "  2.37304688e-01  2.16796875e-01  2.24304199e-03  2.73437500e-01\n",
      " -2.94921875e-01 -2.89062500e-01 -2.08984375e-01 -4.10156250e-02\n",
      " -1.36718750e-01 -1.72851562e-01 -1.80664062e-01 -3.97949219e-02\n",
      " -1.26953125e-01 -5.93261719e-02 -1.31835938e-02 -1.46484375e-01\n",
      "  2.26562500e-01 -7.77343750e-01  1.58691406e-02 -7.44628906e-03\n",
      "  2.04101562e-01 -1.01562500e-01 -3.98437500e-01 -3.28125000e-01\n",
      "  3.86718750e-01  1.48437500e-01  1.25000000e-01 -3.59375000e-01\n",
      "  1.30004883e-02 -1.32812500e-01  4.57031250e-01  3.32031250e-01\n",
      " -3.32031250e-01 -1.60156250e-01 -2.92968750e-01 -1.63085938e-01\n",
      "  1.99218750e-01  4.98046875e-01  1.39648438e-01 -1.21093750e-01\n",
      " -1.55273438e-01  2.77099609e-02  2.90527344e-02  4.84375000e-01\n",
      "  7.86132812e-02  1.35742188e-01  3.02734375e-01 -3.75000000e-01\n",
      " -3.88671875e-01 -1.42578125e-01 -5.44433594e-02 -9.27734375e-03\n",
      " -2.87109375e-01 -1.04003906e-01 -9.52148438e-02  1.61132812e-01\n",
      "  7.61718750e-02 -1.33789062e-01 -1.18164062e-01 -4.14062500e-01\n",
      "  3.33984375e-01 -2.65625000e-01 -1.01562500e-01 -1.26953125e-01\n",
      "  5.24902344e-02 -4.05273438e-02 -2.20703125e-01  1.02539062e-01\n",
      " -1.45507812e-01  6.13281250e-01 -2.00195312e-01 -6.22558594e-03\n",
      "  2.83203125e-01  1.03759766e-02  1.98242188e-01  1.24023438e-01\n",
      " -2.30468750e-01  1.35742188e-01  2.81250000e-01 -2.67578125e-01\n",
      "  1.91650391e-02  5.07812500e-01  8.64257812e-02 -2.84423828e-02\n",
      " -4.12109375e-01 -1.54296875e-01  2.77343750e-01 -1.52343750e-01\n",
      "  1.78710938e-01 -3.58886719e-02  2.58789062e-02 -1.10351562e-01\n",
      " -2.55859375e-01  9.96093750e-02 -1.18164062e-01  3.82812500e-01\n",
      " -2.83203125e-01  1.81640625e-01  2.10937500e-01 -2.29492188e-02\n",
      " -1.86523438e-01  2.09960938e-02 -1.16210938e-01 -1.77734375e-01\n",
      "  5.98144531e-02  3.57421875e-01  4.74609375e-01  1.35742188e-01\n",
      " -2.79296875e-01  1.20117188e-01 -4.60937500e-01  1.56250000e-01\n",
      "  2.68554688e-02 -9.32617188e-02 -2.51953125e-01 -4.45312500e-01\n",
      " -2.67578125e-01 -1.07910156e-01  7.86132812e-02 -1.29882812e-01\n",
      " -4.84375000e-01 -1.23535156e-01  8.20312500e-02 -3.08593750e-01\n",
      " -7.66601562e-02 -7.42187500e-02  3.94531250e-01  5.00000000e-01\n",
      " -1.36718750e-01  4.12597656e-02  1.75781250e-01  7.32421875e-02\n",
      " -5.32226562e-02 -1.56250000e-01 -3.49609375e-01  4.14062500e-01\n",
      " -5.42968750e-01 -2.49023438e-02  2.01171875e-01 -5.27343750e-01\n",
      "  9.76562500e-02  3.00781250e-01 -8.69140625e-02  3.35937500e-01\n",
      "  2.25585938e-01  1.02539062e-01  4.82177734e-03  2.12890625e-01\n",
      "  3.58886719e-02  3.41796875e-02  1.96289062e-01  4.31640625e-01\n",
      "  3.90625000e-03  5.76171875e-02  3.86718750e-01 -1.60156250e-01\n",
      " -3.33984375e-01 -1.81640625e-01  5.44433594e-02  6.44531250e-02\n",
      "  2.89062500e-01  1.96289062e-01  5.07812500e-01  2.34375000e-01\n",
      " -2.31445312e-01 -1.86767578e-02 -4.57031250e-01  9.08203125e-02\n",
      " -2.51953125e-01 -3.21960449e-03 -2.37304688e-01 -1.23535156e-01\n",
      "  2.59399414e-03  2.38281250e-01  1.84570312e-01 -2.18750000e-01\n",
      "  2.85156250e-01  2.20703125e-01 -1.97265625e-01  3.51562500e-01\n",
      " -2.25585938e-01 -8.98437500e-02 -9.86328125e-02  1.80664062e-01\n",
      "  6.28906250e-01 -1.06445312e-01 -1.92382812e-01 -1.55273438e-01\n",
      " -1.34765625e-01  5.46875000e-01 -2.35351562e-01 -8.93554688e-02\n",
      " -1.04980469e-01  4.06250000e-01  4.33593750e-01 -1.44531250e-01\n",
      "  7.03125000e-01  1.52343750e-01  2.22656250e-01 -1.38671875e-01\n",
      " -2.29492188e-02 -3.32031250e-02 -1.85546875e-01 -3.20312500e-01\n",
      " -1.68945312e-01 -3.67187500e-01  2.89062500e-01 -7.03125000e-02\n",
      "  8.39843750e-02 -1.54296875e-01 -1.38671875e-01 -1.53808594e-02\n",
      "  1.82617188e-01  2.28271484e-02  3.78417969e-02  3.28125000e-01\n",
      " -1.31835938e-02  2.23632812e-01 -3.12500000e-02  2.30468750e-01\n",
      " -5.78125000e-01 -4.23828125e-01 -4.00390625e-01  5.20019531e-02\n",
      "  1.96289062e-01 -3.78906250e-01  4.10156250e-01  1.56250000e-01\n",
      " -1.22070312e-01  1.98242188e-01 -4.15039062e-02 -1.66015625e-01\n",
      " -3.94531250e-01 -1.36718750e-01  8.30078125e-02  1.10839844e-01\n",
      " -5.89843750e-01 -2.50000000e-01  1.12792969e-01  1.79687500e-01\n",
      " -2.71484375e-01  4.13894653e-04  3.71093750e-01  8.88671875e-02\n",
      " -2.23632812e-01 -4.46777344e-02 -3.26171875e-01  2.28515625e-01\n",
      " -7.91015625e-02 -2.06054688e-01 -9.86328125e-02 -4.85839844e-02\n",
      " -2.33398438e-01  3.20312500e-01 -3.96484375e-01 -4.88281250e-02\n",
      "  1.01562500e-01 -1.74804688e-01 -3.24218750e-01 -2.08984375e-01\n",
      " -3.73535156e-02  3.34472656e-02  2.89062500e-01  3.96484375e-01\n",
      "  1.28906250e-01 -3.39355469e-02  1.65039062e-01  4.12597656e-02\n",
      " -5.63964844e-02 -4.56542969e-02  3.67187500e-01  3.16406250e-01\n",
      " -1.60156250e-01 -1.51367188e-01 -2.08984375e-01  1.63085938e-01\n",
      "  2.53906250e-01  4.00390625e-01 -1.27929688e-01  3.84765625e-01\n",
      " -1.25000000e-01  4.78515625e-01  1.84570312e-01  3.12500000e-02\n",
      "  9.96093750e-02 -2.59765625e-01  1.52343750e-01 -4.80468750e-01]\n"
     ]
    }
   ],
   "source": [
    "print (embeddings[1,:])"
   ]
  },
  {
   "cell_type": "code",
   "execution_count": 241,
   "metadata": {
    "collapsed": false
   },
   "outputs": [],
   "source": [
    "max_seq_length = max(train_df.question1.map(lambda x: len(x)).max(),\n",
    "                     train_df.question2.map(lambda x: len(x)).max(),\n",
    "                     test_df.question1.map(lambda x: len(x)).max(),\n",
    "                     test_df.question2.map(lambda x: len(x)).max())\n",
    "\n",
    "# Split to train validation\n",
    "validation_size = 40000\n",
    "training_size = len(train_df) - validation_size\n",
    "\n",
    "X = train_df[questions_cols]\n",
    "Y = train_df['is_duplicate']\n",
    "\n",
    "X_train, X_validation, Y_train, Y_validation = train_test_split(X, Y, test_size=validation_size)\n",
    "\n",
    "# Split to dicts\n",
    "X_train = {'left': X_train.question1, 'right': X_train.question2}\n",
    "X_validation = {'left': X_validation.question1, 'right': X_validation.question2}\n",
    "X_test = {'left': test_df.question1, 'right': test_df.question2}\n",
    "\n",
    "# Convert labels to their numpy representations\n",
    "Y_train = Y_train.values\n",
    "Y_validation = Y_validation.values\n",
    "\n",
    "# Zero padding\n",
    "for dataset, side in itertools.product([X_train, X_validation], ['left', 'right']):\n",
    "    dataset[side] = pad_sequences(dataset[side], maxlen=max_seq_length)\n",
    "\n",
    "# Make sure everything is ok\n",
    "assert X_train['left'].shape == X_train['right'].shape\n",
    "assert len(X_train['left']) == len(Y_train)"
   ]
  },
  {
   "cell_type": "code",
   "execution_count": 242,
   "metadata": {
    "collapsed": false
   },
   "outputs": [
    {
     "name": "stderr",
     "output_type": "stream",
     "text": [
      "/Users/jac812i/virtualenvs/tensorflow/lib/python3.6/site-packages/ipykernel_launcher.py:28: UserWarning: The `Merge` layer is deprecated and will be removed after 08/2017. Use instead layers from `keras.layers.merge`, e.g. `add`, `concatenate`, etc.\n",
      "/Users/jac812i/virtualenvs/tensorflow/lib/python3.6/site-packages/ipykernel_launcher.py:42: UserWarning: The `nb_epoch` argument in `fit` has been renamed `epochs`.\n"
     ]
    },
    {
     "name": "stdout",
     "output_type": "stream",
     "text": [
      "Train on 364290 samples, validate on 40000 samples\n",
      "Epoch 1/25\n",
      "364290/364290 [==============================] - 1965s 5ms/step - loss: 0.1752 - acc: 0.7460 - val_loss: 0.1612 - val_acc: 0.7629\n",
      "Epoch 2/25\n",
      "364290/364290 [==============================] - 1870s 5ms/step - loss: 0.1528 - acc: 0.7857 - val_loss: 0.1499 - val_acc: 0.7885\n",
      "Epoch 3/25\n",
      "364290/364290 [==============================] - 1861s 5ms/step - loss: 0.1456 - acc: 0.7975 - val_loss: 0.1459 - val_acc: 0.7949\n",
      "Epoch 4/25\n",
      "364290/364290 [==============================] - 1856s 5ms/step - loss: 0.1412 - acc: 0.8043 - val_loss: 0.1426 - val_acc: 0.7987\n",
      "Epoch 5/25\n",
      "364290/364290 [==============================] - 1856s 5ms/step - loss: 0.1377 - acc: 0.8095 - val_loss: 0.1414 - val_acc: 0.7976\n",
      "Epoch 6/25\n",
      "364290/364290 [==============================] - 1856s 5ms/step - loss: 0.1350 - acc: 0.8137 - val_loss: 0.1385 - val_acc: 0.8089\n",
      "Epoch 7/25\n",
      "364290/364290 [==============================] - 1846s 5ms/step - loss: 0.1330 - acc: 0.8170 - val_loss: 0.1376 - val_acc: 0.8056\n",
      "Epoch 8/25\n",
      "364290/364290 [==============================] - 1849s 5ms/step - loss: 0.1314 - acc: 0.8193 - val_loss: 0.1370 - val_acc: 0.8054\n",
      "Epoch 9/25\n",
      "364290/364290 [==============================] - 1849s 5ms/step - loss: 0.1300 - acc: 0.8217 - val_loss: 0.1348 - val_acc: 0.8139\n",
      "Epoch 10/25\n",
      "364290/364290 [==============================] - 1851s 5ms/step - loss: 0.1287 - acc: 0.8240 - val_loss: 0.1337 - val_acc: 0.8138\n",
      "Epoch 11/25\n",
      "364290/364290 [==============================] - 1851s 5ms/step - loss: 0.1274 - acc: 0.8258 - val_loss: 0.1338 - val_acc: 0.8174\n",
      "Epoch 12/25\n",
      "364290/364290 [==============================] - 1851s 5ms/step - loss: 0.1263 - acc: 0.8282 - val_loss: 0.1329 - val_acc: 0.8143\n",
      "Epoch 13/25\n",
      "364290/364290 [==============================] - 1851s 5ms/step - loss: 0.1254 - acc: 0.8296 - val_loss: 0.1330 - val_acc: 0.8144\n",
      "Epoch 14/25\n",
      "364290/364290 [==============================] - 1859s 5ms/step - loss: 0.1247 - acc: 0.8305 - val_loss: 0.1321 - val_acc: 0.8145\n",
      "Epoch 15/25\n",
      "364290/364290 [==============================] - 5376s 15ms/step - loss: 0.1238 - acc: 0.8322 - val_loss: 0.1318 - val_acc: 0.8161\n",
      "Epoch 16/25\n",
      "364290/364290 [==============================] - 1946s 5ms/step - loss: 0.1230 - acc: 0.8332 - val_loss: 0.1314 - val_acc: 0.8213\n",
      "Epoch 17/25\n",
      "364290/364290 [==============================] - 1989s 5ms/step - loss: 0.1223 - acc: 0.8347 - val_loss: 0.1302 - val_acc: 0.8217\n",
      "Epoch 18/25\n",
      "364290/364290 [==============================] - 2016s 6ms/step - loss: 0.1217 - acc: 0.8356 - val_loss: 0.1295 - val_acc: 0.8212\n",
      "Epoch 19/25\n",
      "364290/364290 [==============================] - 2041s 6ms/step - loss: 0.1211 - acc: 0.8364 - val_loss: 0.1299 - val_acc: 0.8221\n",
      "Epoch 20/25\n",
      "364290/364290 [==============================] - 2003s 5ms/step - loss: 0.1205 - acc: 0.8377 - val_loss: 0.1294 - val_acc: 0.8204\n",
      "Epoch 21/25\n",
      "364290/364290 [==============================] - 2059s 6ms/step - loss: 0.1200 - acc: 0.8380 - val_loss: 0.1303 - val_acc: 0.8190\n",
      "Epoch 22/25\n",
      "364290/364290 [==============================] - 1977s 5ms/step - loss: 0.1195 - acc: 0.8394 - val_loss: 0.1296 - val_acc: 0.8256\n",
      "Epoch 23/25\n",
      "364290/364290 [==============================] - 2535s 7ms/step - loss: 0.1211 - acc: 0.8361 - val_loss: 0.1286 - val_acc: 0.8252\n",
      "Epoch 24/25\n",
      "364290/364290 [==============================] - 2171s 6ms/step - loss: 0.1186 - acc: 0.8409 - val_loss: 0.1283 - val_acc: 0.8258\n",
      "Epoch 25/25\n",
      "364290/364290 [==============================] - 1982s 5ms/step - loss: 0.1182 - acc: 0.8414 - val_loss: 0.1277 - val_acc: 0.8258\n",
      "Training time finished.\n",
      "25 epochs in 14:29:30.750384\n"
     ]
    }
   ],
   "source": [
    "# Model variables\n",
    "n_hidden = 50\n",
    "gradient_clipping_norm = 1.25\n",
    "batch_size = 64\n",
    "n_epoch = 25\n",
    "\n",
    "def exponent_neg_manhattan_distance(left, right):\n",
    "    ''' Helper function for the similarity estimate of the LSTMs outputs'''\n",
    "    return K.exp(-K.sum(K.abs(left-right), axis=1, keepdims=True))\n",
    "\n",
    "# The visible layer\n",
    "left_input = Input(shape=(max_seq_length,), dtype='int32')\n",
    "right_input = Input(shape=(max_seq_length,), dtype='int32')\n",
    "\n",
    "embedding_layer = Embedding(len(embeddings), embedding_dim, weights=[embeddings], input_length=max_seq_length, trainable=False)\n",
    "\n",
    "# Embedded version of the inputs\n",
    "encoded_left = embedding_layer(left_input)\n",
    "encoded_right = embedding_layer(right_input)\n",
    "\n",
    "# Since this is a siamese network, both sides share the same LSTM\n",
    "shared_lstm = LSTM(n_hidden)\n",
    "\n",
    "left_output = shared_lstm(encoded_left)\n",
    "right_output = shared_lstm(encoded_right)\n",
    "\n",
    "# Calculates the distance as defined by the MaLSTM model\n",
    "malstm_distance = Merge(mode=lambda x: exponent_neg_manhattan_distance(x[0], x[1]), output_shape=lambda x: (x[0][0], 1))([left_output, right_output])\n",
    "\n",
    "# Pack it all up into a model\n",
    "malstm = Model([left_input, right_input], [malstm_distance])\n",
    "\n",
    "# Adadelta optimizer, with gradient clipping by norm\n",
    "optimizer = Adadelta(clipnorm=gradient_clipping_norm)\n",
    "\n",
    "malstm.compile(loss='mean_squared_error', optimizer=optimizer, metrics=['accuracy'])\n",
    "\n",
    "# Start training\n",
    "training_start_time = time()\n",
    "\n",
    "malstm_trained = malstm.fit([X_train['left'], X_train['right']], Y_train, batch_size=batch_size, nb_epoch=n_epoch,\n",
    "                            validation_data=([X_validation['left'], X_validation['right']], Y_validation))\n",
    "\n",
    "print(\"Training time finished.\\n{} epochs in {}\".format(n_epoch, datetime.timedelta(seconds=time()-training_start_time)))"
   ]
  },
  {
   "cell_type": "code",
   "execution_count": 245,
   "metadata": {
    "collapsed": false
   },
   "outputs": [
    {
     "data": {
      "image/png": "[encoded data removed]",
      "text/plain": [
       "<matplotlib.figure.Figure at 0x1d1c3dc18>"
      ]
     },
     "metadata": {},
     "output_type": "display_data"
    },
    {
     "data": {
      "image/png": "[encoded data removed]",
      "text/plain": [
       "<matplotlib.figure.Figure at 0x1daa953c8>"
      ]
     },
     "metadata": {},
     "output_type": "display_data"
    }
   ],
   "source": [
    "# Plot accuracy\n",
    "plt.plot(malstm_trained.history['acc'])\n",
    "plt.plot(malstm_trained.history['val_acc'])\n",
    "plt.title('Model Accuracy')\n",
    "plt.ylabel('Accuracy')\n",
    "plt.xlabel('Epoch')\n",
    "plt.legend(['Train', 'Validation'], loc='upper left')\n",
    "plt.show()\n",
    "\n",
    "# Plot loss\n",
    "plt.plot(malstm_trained.history['loss'])\n",
    "plt.plot(malstm_trained.history['val_loss'])\n",
    "plt.title('Model Loss')\n",
    "plt.ylabel('Loss')\n",
    "plt.xlabel('Epoch')\n",
    "plt.legend(['Train', 'Validation'], loc='upper right')\n",
    "plt.show()"
   ]
  },
  {
   "cell_type": "code",
   "execution_count": 251,
   "metadata": {
    "collapsed": true
   },
   "outputs": [],
   "source": [
    "#save the model\n",
    "malstm.save('quora_model.h5')"
   ]
  },
  {
   "cell_type": "code",
   "execution_count": 252,
   "metadata": {
    "collapsed": false,
    "scrolled": true
   },
   "outputs": [
    {
     "name": "stdout",
     "output_type": "stream",
     "text": [
      "__________________________________________________________________________________________________\n",
      "Layer (type)                    Output Shape         Param #     Connected to                     \n",
      "==================================================================================================\n",
      "input_1 (InputLayer)            (None, 245)          0                                            \n",
      "__________________________________________________________________________________________________\n",
      "input_2 (InputLayer)            (None, 245)          0                                            \n",
      "__________________________________________________________________________________________________\n",
      "embedding_1 (Embedding)         (None, 245, 300)     36397800    input_1[0][0]                    \n",
      "                                                                 input_2[0][0]                    \n",
      "__________________________________________________________________________________________________\n",
      "lstm_1 (LSTM)                   (None, 50)           70200       embedding_1[0][0]                \n",
      "                                                                 embedding_1[1][0]                \n",
      "__________________________________________________________________________________________________\n",
      "merge_1 (Merge)                 (None, 1)            0           lstm_1[0][0]                     \n",
      "                                                                 lstm_1[1][0]                     \n",
      "==================================================================================================\n",
      "Total params: 36,468,000\n",
      "Trainable params: 70,200\n",
      "Non-trainable params: 36,397,800\n",
      "__________________________________________________________________________________________________\n"
     ]
    }
   ],
   "source": [
    "malstm.summary()"
   ]
  },
  {
   "cell_type": "code",
   "execution_count": null,
   "metadata": {
    "collapsed": true
   },
   "outputs": [],
   "source": []
  }
 ],
 "metadata": {
  "anaconda-cloud": {},
  "kernelspec": {
   "display_name": "tensorflowkeras",
   "language": "python",
   "name": "tensorflowkeras"
  }
 },
 "nbformat": 4,
 "nbformat_minor": 2
}
